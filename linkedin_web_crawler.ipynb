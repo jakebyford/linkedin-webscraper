{
 "cells": [
  {
   "cell_type": "markdown",
   "id": "964d560c",
   "metadata": {},
   "source": [
    "# LinkedIn Web Crawler"
   ]
  },
  {
   "cell_type": "code",
   "execution_count": 1,
   "id": "ccef1fbd",
   "metadata": {},
   "outputs": [],
   "source": [
    "# Extra Dependencies\n",
    "# from selenium.webdriver.chrome.service import Service as ChromeService\n",
    "# from webdriver_manager.chrome import ChromeDriverManager\n",
    "# from selenium.webdriver.support.wait import WebDriverWait\n",
    "# from selenium.webdriver.support import expected_conditions as EC\n",
    "# from selenium.webdriver.common.by import By\n",
    "# from selenium.webdriver.common.action_chains import ActionChains\n",
    "# # from urllib.parse import urljoin\n",
    "\n",
    "\n",
    "# Import Dependencies\n",
    "from selenium import webdriver\n",
    "import time\n",
    "from time import sleep\n",
    "from bs4 import BeautifulSoup\n",
    "import requests\n",
    "import os\n",
    "from config import my_directory\n",
    "\n",
    "# create webdriver object\n",
    "driver = webdriver.Chrome()"
   ]
  },
  {
   "cell_type": "markdown",
   "id": "36a9cd36",
   "metadata": {},
   "source": [
    "## Change ```keywords``` variable to search the job you want. \n",
    "%20 stands for whitespace"
   ]
  },
  {
   "cell_type": "code",
   "execution_count": 2,
   "id": "269fa159",
   "metadata": {},
   "outputs": [],
   "source": [
    "##### Web scrapper for infinite scrolling page #####\n",
    "keywords = 'data%20science'\n",
    "url = f'https://www.linkedin.com/jobs/search/?currentJobId=3472306869&geoId=103644278&keywords={keywords}&location=United%20States&refresh=true'\n",
    "driver.get(url)\n",
    "# time.sleep(2)  # Allow 2 seconds for the web page to open\n",
    "scroll_pause_time = 2 # You can set your own pause time. My laptop is a bit slow so I use 1 sec\n",
    "screen_height = driver.execute_script(\"return window.screen.height;\")   # get the screen height of the web\n",
    "i = 1\n",
    "\n",
    "while True:\n",
    "    # scroll one screen height each time\n",
    "    driver.execute_script(\"window.scrollTo(0, {screen_height}*{i});\".format(screen_height=screen_height, i=i))  \n",
    "    i += 1\n",
    "    time.sleep(scroll_pause_time)\n",
    "    # update scroll height each time after scrolled, as the scroll height can change after we scrolled the page\n",
    "    scroll_height = driver.execute_script(\"return document.body.scrollHeight;\")  \n",
    "    # Break the loop when the height we need to scroll to is larger than the total scroll height\n",
    "    if (screen_height) * i > scroll_height:\n",
    "        break \n",
    "\n",
    "##### Extract LinkedIn URLs #####\n",
    "urls = []\n",
    "soup = BeautifulSoup(driver.page_source, \"html.parser\")\n",
    "for link in soup.find_all('div', class_='base-card'):\n",
    "    urls.append(link.a['href'])"
   ]
  },
  {
   "cell_type": "code",
   "execution_count": 3,
   "id": "842159b2",
   "metadata": {},
   "outputs": [
    {
     "data": {
      "text/plain": [
       "173"
      ]
     },
     "execution_count": 3,
     "metadata": {},
     "output_type": "execute_result"
    }
   ],
   "source": [
    "len(urls)"
   ]
  },
  {
   "cell_type": "code",
   "execution_count": 4,
   "id": "22f68f24",
   "metadata": {},
   "outputs": [
    {
     "data": {
      "text/plain": [
       "['https://www.linkedin.com/jobs/view/internship-data-analytics-at-bath-body-works-3803014922?refId=fCEr%2BP%2BqDX3zYSjvUR6OMg%3D%3D&trackingId=EH1mft77OTBOWim3MB1ktg%3D%3D&position=1&pageNum=0&trk=public_jobs_jserp-result_search-card',\n",
       " 'https://www.linkedin.com/jobs/view/market-data-analyst-intern-at-e-l-f-beauty-3804185298?refId=fCEr%2BP%2BqDX3zYSjvUR6OMg%3D%3D&trackingId=pyazjplm9ySFadb484gu%2BQ%3D%3D&position=2&pageNum=0&trk=public_jobs_jserp-result_search-card',\n",
       " 'https://www.linkedin.com/jobs/view/junior-data-scientist-at-team-remotely-inc-3817705793?refId=fCEr%2BP%2BqDX3zYSjvUR6OMg%3D%3D&trackingId=1yXQq4yfbzOh6GzIi57tfQ%3D%3D&position=3&pageNum=0&trk=public_jobs_jserp-result_search-card',\n",
       " 'https://www.linkedin.com/jobs/view/internship-data-science-at-bath-body-works-3803019329?refId=fCEr%2BP%2BqDX3zYSjvUR6OMg%3D%3D&trackingId=kQGIkqM3%2F56bQfrqKOKFbA%3D%3D&position=4&pageNum=0&trk=public_jobs_jserp-result_search-card',\n",
       " 'https://www.linkedin.com/jobs/view/data-scientist-intern-at-intuit-3809557486?refId=fCEr%2BP%2BqDX3zYSjvUR6OMg%3D%3D&trackingId=a21gMfF20U3oM6BJSS4L5w%3D%3D&position=5&pageNum=0&trk=public_jobs_jserp-result_search-card',\n",
       " 'https://www.linkedin.com/jobs/view/data-scientist-intern-at-intuit-3809561158?refId=fCEr%2BP%2BqDX3zYSjvUR6OMg%3D%3D&trackingId=6aYEXlNwQJs0mh1U8mKGFQ%3D%3D&position=6&pageNum=0&trk=public_jobs_jserp-result_search-card',\n",
       " 'https://www.linkedin.com/jobs/view/jr-data-scientist-at-sri-3806498205?refId=fCEr%2BP%2BqDX3zYSjvUR6OMg%3D%3D&trackingId=d2Vc6UasGKZ%2BACGQ993ZQg%3D%3D&position=7&pageNum=0&trk=public_jobs_jserp-result_search-card',\n",
       " 'https://www.linkedin.com/jobs/view/data-scientist-intern-at-intuit-3810949467?refId=fCEr%2BP%2BqDX3zYSjvUR6OMg%3D%3D&trackingId=tguvrx8qLYK0quRefLZqWA%3D%3D&position=8&pageNum=0&trk=public_jobs_jserp-result_search-card',\n",
       " 'https://www.linkedin.com/jobs/view/data-scientist-intern-at-intuit-3810949466?refId=fCEr%2BP%2BqDX3zYSjvUR6OMg%3D%3D&trackingId=0OI8GoSxCxo3mA4FpD6oqQ%3D%3D&position=9&pageNum=0&trk=public_jobs_jserp-result_search-card',\n",
       " 'https://www.linkedin.com/jobs/view/data-scientist-at-thyme-care-3808807375?refId=fCEr%2BP%2BqDX3zYSjvUR6OMg%3D%3D&trackingId=73inbOif1XWqCuOyW4DqtQ%3D%3D&position=10&pageNum=0&trk=public_jobs_jserp-result_search-card',\n",
       " 'https://www.linkedin.com/jobs/view/data-scientist-at-paretohealth-3809938645?refId=fCEr%2BP%2BqDX3zYSjvUR6OMg%3D%3D&trackingId=2RzSTqu6al7Muh6Ny%2FAbFQ%3D%3D&position=11&pageNum=0&trk=public_jobs_jserp-result_search-card',\n",
       " 'https://www.linkedin.com/jobs/view/analyst-data-scientist-at-cerberus-capital-management-3808425669?refId=fCEr%2BP%2BqDX3zYSjvUR6OMg%3D%3D&trackingId=3z22JEDUJNIy2pT8dWrUIQ%3D%3D&position=12&pageNum=0&trk=public_jobs_jserp-result_search-card',\n",
       " 'https://www.linkedin.com/jobs/view/data-analyst-at-good-apple-3803432773?refId=fCEr%2BP%2BqDX3zYSjvUR6OMg%3D%3D&trackingId=kqAl7MFTI2nQeAv6lZIySA%3D%3D&position=13&pageNum=0&trk=public_jobs_jserp-result_search-card',\n",
       " 'https://www.linkedin.com/jobs/view/data-science-at-conch-technologies-inc-3816700778?refId=fCEr%2BP%2BqDX3zYSjvUR6OMg%3D%3D&trackingId=PRIsQIAUTs%2BvETF01yhJuQ%3D%3D&position=14&pageNum=0&trk=public_jobs_jserp-result_search-card',\n",
       " 'https://www.linkedin.com/jobs/view/data-scientist-at-urbench-llc-3799082462?refId=fCEr%2BP%2BqDX3zYSjvUR6OMg%3D%3D&trackingId=NEhcVvDSdoTubJzfgojXMA%3D%3D&position=15&pageNum=0&trk=public_jobs_jserp-result_search-card',\n",
       " 'https://www.linkedin.com/jobs/view/data-scientist-intern-at-faire-3798378026?refId=fCEr%2BP%2BqDX3zYSjvUR6OMg%3D%3D&trackingId=b0PbCDERIFveKZMpDqtAMg%3D%3D&position=16&pageNum=0&trk=public_jobs_jserp-result_search-card',\n",
       " 'https://www.linkedin.com/jobs/view/data-scientist-engineer-entry-level-at-zetachain-inc-3817523788?refId=fCEr%2BP%2BqDX3zYSjvUR6OMg%3D%3D&trackingId=gMl%2BR%2BfqScRV1gPmzF%2FV2g%3D%3D&position=17&pageNum=0&trk=public_jobs_jserp-result_search-card',\n",
       " 'https://www.linkedin.com/jobs/view/data-scientist-consumer-insights-at-salad-and-go-3804736760?refId=fCEr%2BP%2BqDX3zYSjvUR6OMg%3D%3D&trackingId=E46K3Y7H7MgQQe%2FyKaRHlg%3D%3D&position=18&pageNum=0&trk=public_jobs_jserp-result_search-card',\n",
       " 'https://www.linkedin.com/jobs/view/data-science-analyst-at-mavinsys-3817714058?refId=fCEr%2BP%2BqDX3zYSjvUR6OMg%3D%3D&trackingId=XNa3SCfSqiEgtzoOlX3f6g%3D%3D&position=19&pageNum=0&trk=public_jobs_jserp-result_search-card',\n",
       " 'https://www.linkedin.com/jobs/view/data-scientist-at-coforge-3813654997?refId=fCEr%2BP%2BqDX3zYSjvUR6OMg%3D%3D&trackingId=XiBiHbrQBJ8PiwlKDjHJsg%3D%3D&position=20&pageNum=0&trk=public_jobs_jserp-result_search-card',\n",
       " 'https://www.linkedin.com/jobs/view/data-scientist-pok%C3%A9mon-go-at-niantic-inc-3808816404?refId=fCEr%2BP%2BqDX3zYSjvUR6OMg%3D%3D&trackingId=1xc4tWeFicpaetY%2BHkslFA%3D%3D&position=21&pageNum=0&trk=public_jobs_jserp-result_search-card',\n",
       " 'https://www.linkedin.com/jobs/view/data-scientist-at-accroid-inc-3808538154?refId=fCEr%2BP%2BqDX3zYSjvUR6OMg%3D%3D&trackingId=qkU5zjd1kTFDGX%2BiEifnFA%3D%3D&position=22&pageNum=0&trk=public_jobs_jserp-result_search-card',\n",
       " 'https://www.linkedin.com/jobs/view/data-scientist-at-atlassian-3797568772?refId=fCEr%2BP%2BqDX3zYSjvUR6OMg%3D%3D&trackingId=lJgkV6Pff5VwHrrLRJuW1w%3D%3D&position=23&pageNum=0&trk=public_jobs_jserp-result_search-card',\n",
       " 'https://www.linkedin.com/jobs/view/data-science-intern-at-allianz-partners-3816935915?refId=tAdOVCJzJXY%2BCD6UaT8ivA%3D%3D&trackingId=%2BQXI%2BPvU37MfpRuIRwLaOg%3D%3D&position=1&pageNum=1&trk=public_jobs_jserp-result_search-card',\n",
       " 'https://www.linkedin.com/jobs/view/staff-data-scientist-strategy-insights-at-linkedin-3797068661?refId=tAdOVCJzJXY%2BCD6UaT8ivA%3D%3D&trackingId=NPTRzYDDuPa1OIEF%2FlDr4A%3D%3D&position=2&pageNum=1&trk=public_jobs_jserp-result_search-card',\n",
       " 'https://www.linkedin.com/jobs/view/data-scientist-at-fda-3809760999?refId=tAdOVCJzJXY%2BCD6UaT8ivA%3D%3D&trackingId=hAeUP4BFzFADegHAsGs2Nw%3D%3D&position=3&pageNum=1&trk=public_jobs_jserp-result_search-card',\n",
       " 'https://www.linkedin.com/jobs/view/data-analyst-at-extend-3799874143?refId=tAdOVCJzJXY%2BCD6UaT8ivA%3D%3D&trackingId=K3f5iwrEitRhpx0ShOp7XA%3D%3D&position=4&pageNum=1&trk=public_jobs_jserp-result_search-card',\n",
       " 'https://www.linkedin.com/jobs/view/data-scientist-at-atlassian-3797569562?refId=tAdOVCJzJXY%2BCD6UaT8ivA%3D%3D&trackingId=F42WmSPaqadvGD16txFixQ%3D%3D&position=5&pageNum=1&trk=public_jobs_jserp-result_search-card',\n",
       " 'https://www.linkedin.com/jobs/view/data-scientist-at-adecco-3801630319?refId=tAdOVCJzJXY%2BCD6UaT8ivA%3D%3D&trackingId=F9J7Cj5GUkMXbPY5F%2FuSJw%3D%3D&position=6&pageNum=1&trk=public_jobs_jserp-result_search-card',\n",
       " 'https://www.linkedin.com/jobs/view/analyst-data-science-at-strive-health-3816937754?refId=tAdOVCJzJXY%2BCD6UaT8ivA%3D%3D&trackingId=JqQ2f%2FfAM%2BZ1jXgqZje%2Fww%3D%3D&position=7&pageNum=1&trk=public_jobs_jserp-result_search-card',\n",
       " 'https://www.linkedin.com/jobs/view/data-science-intern-at-hp-3804033959?refId=tAdOVCJzJXY%2BCD6UaT8ivA%3D%3D&trackingId=ciKVkbf2JMzMHTCmdhXiDg%3D%3D&position=8&pageNum=1&trk=public_jobs_jserp-result_search-card',\n",
       " 'https://www.linkedin.com/jobs/view/data-scientist-intern-at-medidata-solutions-3810253704?refId=tAdOVCJzJXY%2BCD6UaT8ivA%3D%3D&trackingId=T80rIeELcd3yoMnej3f5yA%3D%3D&position=9&pageNum=1&trk=public_jobs_jserp-result_search-card',\n",
       " 'https://www.linkedin.com/jobs/view/junior-machine-learning-engineer-at-team-remotely-inc-3817709468?refId=tAdOVCJzJXY%2BCD6UaT8ivA%3D%3D&trackingId=GO8UwmtZAZVnNiSYtK71Ow%3D%3D&position=10&pageNum=1&trk=public_jobs_jserp-result_search-card',\n",
       " 'https://www.linkedin.com/jobs/view/associate-data-scientist-at-invitro-cell-research-llc-3805480129?refId=tAdOVCJzJXY%2BCD6UaT8ivA%3D%3D&trackingId=VwcYweZHh%2B48rTMx6uFrgA%3D%3D&position=11&pageNum=1&trk=public_jobs_jserp-result_search-card',\n",
       " 'https://www.linkedin.com/jobs/view/data-analyst-at-interex-group-3805319895?refId=tAdOVCJzJXY%2BCD6UaT8ivA%3D%3D&trackingId=eIZZOYNJI%2FBJDGI%2FSXzmXg%3D%3D&position=12&pageNum=1&trk=public_jobs_jserp-result_search-card',\n",
       " 'https://www.linkedin.com/jobs/view/ai-ml-data-science-intern-at-intuitive-3817529839?refId=tAdOVCJzJXY%2BCD6UaT8ivA%3D%3D&trackingId=ZlP9SKAFddlHgIgBN2H%2Flg%3D%3D&position=13&pageNum=1&trk=public_jobs_jserp-result_search-card',\n",
       " 'https://www.linkedin.com/jobs/view/data-scientist-pok%C3%A9mon-go-at-niantic-inc-3808819079?refId=tAdOVCJzJXY%2BCD6UaT8ivA%3D%3D&trackingId=IBFR8i3N75gc9J8HrRz4rw%3D%3D&position=14&pageNum=1&trk=public_jobs_jserp-result_search-card',\n",
       " 'https://www.linkedin.com/jobs/view/excel-data-analyst-remote-at-conexess-group-3805528222?refId=tAdOVCJzJXY%2BCD6UaT8ivA%3D%3D&trackingId=YY5aoXmcgAeSLUjrha83ow%3D%3D&position=15&pageNum=1&trk=public_jobs_jserp-result_search-card',\n",
       " 'https://www.linkedin.com/jobs/view/data-analyst-at-addison-group-3797044901?refId=tAdOVCJzJXY%2BCD6UaT8ivA%3D%3D&trackingId=aFFAF2igtJGGZ7eeja%2F0eA%3D%3D&position=16&pageNum=1&trk=public_jobs_jserp-result_search-card',\n",
       " 'https://www.linkedin.com/jobs/view/data-scientist-at-parallel-consulting-3801414774?refId=tAdOVCJzJXY%2BCD6UaT8ivA%3D%3D&trackingId=xzmcLbLS%2BF0JaIJ3LsfWbA%3D%3D&position=17&pageNum=1&trk=public_jobs_jserp-result_search-card',\n",
       " 'https://www.linkedin.com/jobs/view/ml-ai-research-associate-computational-biology-at-vial-3816303197?refId=tAdOVCJzJXY%2BCD6UaT8ivA%3D%3D&trackingId=pT6ClvS9JSjhmz5oNJ68Vw%3D%3D&position=18&pageNum=1&trk=public_jobs_jserp-result_search-card',\n",
       " 'https://www.linkedin.com/jobs/view/junior-data-scientist-at-flexon-technologies-inc-3807582124?refId=tAdOVCJzJXY%2BCD6UaT8ivA%3D%3D&trackingId=ug99nUNO%2FQ1iTyrVU2wCRw%3D%3D&position=19&pageNum=1&trk=public_jobs_jserp-result_search-card',\n",
       " 'https://www.linkedin.com/jobs/view/data-scientist-at-millennium-group-3813190252?refId=tAdOVCJzJXY%2BCD6UaT8ivA%3D%3D&trackingId=qQyIG1srmjn%2FuHnoMLRS7A%3D%3D&position=20&pageNum=1&trk=public_jobs_jserp-result_search-card',\n",
       " 'https://www.linkedin.com/jobs/view/data-scientist-at-marchex-3803929745?refId=tAdOVCJzJXY%2BCD6UaT8ivA%3D%3D&trackingId=IVChb7Mei1lshohi4A6mdw%3D%3D&position=21&pageNum=1&trk=public_jobs_jserp-result_search-card',\n",
       " 'https://www.linkedin.com/jobs/view/data-scientist-analyst-at-mars-3809783561?refId=tAdOVCJzJXY%2BCD6UaT8ivA%3D%3D&trackingId=vTccq2L%2FEnCFjzdoA3lQqw%3D%3D&position=22&pageNum=1&trk=public_jobs_jserp-result_search-card',\n",
       " 'https://www.linkedin.com/jobs/view/data-analyst-at-the-walt-disney-company-3808260243?refId=tAdOVCJzJXY%2BCD6UaT8ivA%3D%3D&trackingId=%2BqkYVhX1Ksf483ZnXaxUsQ%3D%3D&position=23&pageNum=1&trk=public_jobs_jserp-result_search-card',\n",
       " 'https://www.linkedin.com/jobs/view/data-science-intern-at-cadent-3798212199?refId=tAdOVCJzJXY%2BCD6UaT8ivA%3D%3D&trackingId=q73PyFIMR%2BQWvh%2BX%2BtvB9g%3D%3D&position=24&pageNum=1&trk=public_jobs_jserp-result_search-card',\n",
       " 'https://www.linkedin.com/jobs/view/data-scientist-at-zelis-3813605708?refId=tAdOVCJzJXY%2BCD6UaT8ivA%3D%3D&trackingId=brjbJOihhz9MljjOXPl4oA%3D%3D&position=25&pageNum=1&trk=public_jobs_jserp-result_search-card',\n",
       " 'https://www.linkedin.com/jobs/view/data-scientist-at-pizza-hut-3809696351?refId=AJjMIygp5TozPRyZxxj8Qw%3D%3D&trackingId=vqhTWSEgS72qdOXi4zRrQg%3D%3D&position=1&pageNum=2&trk=public_jobs_jserp-result_search-card',\n",
       " 'https://www.linkedin.com/jobs/view/data-science-at-conch-technologies-inc-3809425567?refId=AJjMIygp5TozPRyZxxj8Qw%3D%3D&trackingId=0LyT8jpyZvzKWoHOeBBzfw%3D%3D&position=2&pageNum=2&trk=public_jobs_jserp-result_search-card',\n",
       " 'https://www.linkedin.com/jobs/view/data-scientist-at-focus-gts-3811821108?refId=AJjMIygp5TozPRyZxxj8Qw%3D%3D&trackingId=z%2B42lNOxEECIMuX7aprZWQ%3D%3D&position=3&pageNum=2&trk=public_jobs_jserp-result_search-card',\n",
       " 'https://www.linkedin.com/jobs/view/data-scientist-algorithms-pricing-at-lyft-3809837096?refId=AJjMIygp5TozPRyZxxj8Qw%3D%3D&trackingId=oZgcXRGJ4X0goN3V%2BwwtwA%3D%3D&position=4&pageNum=2&trk=public_jobs_jserp-result_search-card',\n",
       " 'https://www.linkedin.com/jobs/view/data-science-intern-at-hp-3804036349?refId=AJjMIygp5TozPRyZxxj8Qw%3D%3D&trackingId=swLmiNChCD9P9xQkb8kJsQ%3D%3D&position=5&pageNum=2&trk=public_jobs_jserp-result_search-card',\n",
       " 'https://www.linkedin.com/jobs/view/pharmacy-data-analyst-at-lockton-3813387148?refId=AJjMIygp5TozPRyZxxj8Qw%3D%3D&trackingId=%2FJP3%2FyjrU8M4XeFJaQJwXQ%3D%3D&position=6&pageNum=2&trk=public_jobs_jserp-result_search-card',\n",
       " 'https://www.linkedin.com/jobs/view/data-analyst-us-at-asos-com-3808077508?refId=AJjMIygp5TozPRyZxxj8Qw%3D%3D&trackingId=TxbAfZ3FX0u5qK6%2BnpTlPA%3D%3D&position=7&pageNum=2&trk=public_jobs_jserp-result_search-card',\n",
       " 'https://www.linkedin.com/jobs/view/machine-learning-engineer-100%25-remote-job-at-technogen-inc-3816751914?refId=AJjMIygp5TozPRyZxxj8Qw%3D%3D&trackingId=i3YY4tQ1q8bH5yZuP4FH1w%3D%3D&position=8&pageNum=2&trk=public_jobs_jserp-result_search-card',\n",
       " 'https://www.linkedin.com/jobs/view/data-scientist-at-the-fresh-market-3816262228?refId=AJjMIygp5TozPRyZxxj8Qw%3D%3D&trackingId=6EMqeXGgP3GAwCtxL6wg7g%3D%3D&position=9&pageNum=2&trk=public_jobs_jserp-result_search-card',\n",
       " 'https://www.linkedin.com/jobs/view/ai-developer-at-uprecruit-3815977724?refId=AJjMIygp5TozPRyZxxj8Qw%3D%3D&trackingId=msQQar7Xkrcl0ZvbtB%2BSDw%3D%3D&position=10&pageNum=2&trk=public_jobs_jserp-result_search-card',\n",
       " 'https://www.linkedin.com/jobs/view/data-science-intern-at-arch-capital-services-llc-3812101527?refId=AJjMIygp5TozPRyZxxj8Qw%3D%3D&trackingId=0YXBeuEcyn5IY8zceNp1yw%3D%3D&position=11&pageNum=2&trk=public_jobs_jserp-result_search-card',\n",
       " 'https://www.linkedin.com/jobs/view/data-scientist-at-fractal-3815310058?refId=AJjMIygp5TozPRyZxxj8Qw%3D%3D&trackingId=vX9Rx9rZdHEYSKS3DQDfcw%3D%3D&position=12&pageNum=2&trk=public_jobs_jserp-result_search-card',\n",
       " 'https://www.linkedin.com/jobs/view/data-scientist-at-iodine-software-3813596080?refId=AJjMIygp5TozPRyZxxj8Qw%3D%3D&trackingId=UHXkcZtv8iEvjHjIhLYvTA%3D%3D&position=13&pageNum=2&trk=public_jobs_jserp-result_search-card',\n",
       " 'https://www.linkedin.com/jobs/view/data-scientist-at-dun-bradstreet-3813826113?refId=AJjMIygp5TozPRyZxxj8Qw%3D%3D&trackingId=t14awH4x%2BtKgKriSj05FYQ%3D%3D&position=14&pageNum=2&trk=public_jobs_jserp-result_search-card',\n",
       " 'https://www.linkedin.com/jobs/view/ai-research-scientist-intern-at-flagship-pioneering-3815558201?refId=AJjMIygp5TozPRyZxxj8Qw%3D%3D&trackingId=BMPSR1c07EJi3kv0P8gfew%3D%3D&position=15&pageNum=2&trk=public_jobs_jserp-result_search-card',\n",
       " 'https://www.linkedin.com/jobs/view/staff-marketing-data-scientist-at-sofi-3810588476?refId=AJjMIygp5TozPRyZxxj8Qw%3D%3D&trackingId=NscbvsRv9k6%2FKKUreag2Og%3D%3D&position=16&pageNum=2&trk=public_jobs_jserp-result_search-card',\n",
       " 'https://www.linkedin.com/jobs/view/data-scientist-senior-at-worth-ai-3810394918?refId=AJjMIygp5TozPRyZxxj8Qw%3D%3D&trackingId=NEyhkwC%2B0A%2B%2B5upKPbfyuw%3D%3D&position=17&pageNum=2&trk=public_jobs_jserp-result_search-card',\n",
       " 'https://www.linkedin.com/jobs/view/junior-data-scientist-at-tech-consulting-3810124988?refId=AJjMIygp5TozPRyZxxj8Qw%3D%3D&trackingId=wPVftxLGA80E7op3xFq5YQ%3D%3D&position=18&pageNum=2&trk=public_jobs_jserp-result_search-card',\n",
       " 'https://www.linkedin.com/jobs/view/data-scientist-translational-data-science-principal-scientist-at-hifibio-therapeutics-3798891357?refId=AJjMIygp5TozPRyZxxj8Qw%3D%3D&trackingId=pgnV%2Ba5Ro5J2YGBrdYqMZQ%3D%3D&position=19&pageNum=2&trk=public_jobs_jserp-result_search-card',\n",
       " 'https://www.linkedin.com/jobs/view/data-science-intern-at-borgwarner-3808096355?refId=AJjMIygp5TozPRyZxxj8Qw%3D%3D&trackingId=TBIZ1yozOzpFErtOpDCAGQ%3D%3D&position=20&pageNum=2&trk=public_jobs_jserp-result_search-card',\n",
       " 'https://www.linkedin.com/jobs/view/data-analyst-at-the-walt-disney-company-3808258384?refId=AJjMIygp5TozPRyZxxj8Qw%3D%3D&trackingId=IdVfBFGxIizPvvXQmGf4cw%3D%3D&position=21&pageNum=2&trk=public_jobs_jserp-result_search-card',\n",
       " 'https://www.linkedin.com/jobs/view/data-science-intern-at-arch-capital-services-llc-3811899713?refId=AJjMIygp5TozPRyZxxj8Qw%3D%3D&trackingId=4VjZ0jXT86bgGyCMRaR7xA%3D%3D&position=22&pageNum=2&trk=public_jobs_jserp-result_search-card',\n",
       " 'https://www.linkedin.com/jobs/view/data-science-intern-at-arch-capital-services-llc-3812105018?refId=AJjMIygp5TozPRyZxxj8Qw%3D%3D&trackingId=5rUTLF7IFHAzlyJloG8Gaw%3D%3D&position=23&pageNum=2&trk=public_jobs_jserp-result_search-card',\n",
       " 'https://www.linkedin.com/jobs/view/data-scientist-at-agility-partners-3811906592?refId=AJjMIygp5TozPRyZxxj8Qw%3D%3D&trackingId=McI%2Bp%2BRiftPkAbQzwTASIw%3D%3D&position=24&pageNum=2&trk=public_jobs_jserp-result_search-card',\n",
       " 'https://www.linkedin.com/jobs/view/data-scientist-summer-intern-at-ambit-inc-3805762774?refId=AJjMIygp5TozPRyZxxj8Qw%3D%3D&trackingId=C%2F1Jeb0e6eVA9Y9HJb0EXg%3D%3D&position=25&pageNum=2&trk=public_jobs_jserp-result_search-card',\n",
       " 'https://www.linkedin.com/jobs/view/machine-learning-engineer-at-twine-3818029084?refId=PRh1GwTMkcVG1kf6Cb55cQ%3D%3D&trackingId=wnBMYBrZl1mMyf%2F6Z30EbA%3D%3D&position=1&pageNum=3&trk=public_jobs_jserp-result_search-card',\n",
       " 'https://www.linkedin.com/jobs/view/data-scientists-at-oso-ventures-inc-3816921628?refId=PRh1GwTMkcVG1kf6Cb55cQ%3D%3D&trackingId=rZJyuhONL8OiOy1sO1OxGA%3D%3D&position=2&pageNum=3&trk=public_jobs_jserp-result_search-card',\n",
       " 'https://www.linkedin.com/jobs/view/staff-marketing-data-scientist-at-sofi-3810589487?refId=PRh1GwTMkcVG1kf6Cb55cQ%3D%3D&trackingId=5qbrMl%2Bg%2F%2BbOBgZFyiw5%2Bg%3D%3D&position=3&pageNum=3&trk=public_jobs_jserp-result_search-card',\n",
       " 'https://www.linkedin.com/jobs/view/data-scientist-at-synergis-3813680938?refId=PRh1GwTMkcVG1kf6Cb55cQ%3D%3D&trackingId=BnfChRxcfZxRQwVUBL1vVw%3D%3D&position=4&pageNum=3&trk=public_jobs_jserp-result_search-card',\n",
       " 'https://www.linkedin.com/jobs/view/data-analyst-at-pyramid-consulting-inc-3801414706?refId=PRh1GwTMkcVG1kf6Cb55cQ%3D%3D&trackingId=wqWOoH74rVGloAquHtV2qA%3D%3D&position=5&pageNum=3&trk=public_jobs_jserp-result_search-card',\n",
       " 'https://www.linkedin.com/jobs/view/data-analyst-at-mission-neighborhood-health-center-3804449596?refId=PRh1GwTMkcVG1kf6Cb55cQ%3D%3D&trackingId=54vV%2FUnG0g20xeIaGhaHfw%3D%3D&position=6&pageNum=3&trk=public_jobs_jserp-result_search-card',\n",
       " 'https://www.linkedin.com/jobs/view/data-analyst-at-cypress-hcm-3798156125?refId=PRh1GwTMkcVG1kf6Cb55cQ%3D%3D&trackingId=ouF3TjCVMHMGNziFudyh%2FQ%3D%3D&position=7&pageNum=3&trk=public_jobs_jserp-result_search-card',\n",
       " 'https://www.linkedin.com/jobs/view/analyst-baseball-analytics-at-boston-red-sox-3804836460?refId=PRh1GwTMkcVG1kf6Cb55cQ%3D%3D&trackingId=LqFKl1EKjvbCWQTHkK3LaQ%3D%3D&position=8&pageNum=3&trk=public_jobs_jserp-result_search-card',\n",
       " 'https://www.linkedin.com/jobs/view/staff-marketing-data-scientist-at-sofi-3810589484?refId=PRh1GwTMkcVG1kf6Cb55cQ%3D%3D&trackingId=3PffhOfM8nSWo8LzDJcGGQ%3D%3D&position=9&pageNum=3&trk=public_jobs_jserp-result_search-card',\n",
       " 'https://www.linkedin.com/jobs/view/data-analyst-intern-at-bear-cognition-3804203297?refId=PRh1GwTMkcVG1kf6Cb55cQ%3D%3D&trackingId=IQNWtcwt6bKGe1sj0nCmMw%3D%3D&position=10&pageNum=3&trk=public_jobs_jserp-result_search-card',\n",
       " 'https://www.linkedin.com/jobs/view/data-scientist-at-conch-technologies-inc-3799090825?refId=PRh1GwTMkcVG1kf6Cb55cQ%3D%3D&trackingId=jIUSRULi1NJ%2FnP5L1356cw%3D%3D&position=11&pageNum=3&trk=public_jobs_jserp-result_search-card',\n",
       " 'https://www.linkedin.com/jobs/view/data-analyst-intern-at-smith-associates-3813182884?refId=PRh1GwTMkcVG1kf6Cb55cQ%3D%3D&trackingId=rarsP10Kd21wxNZOfHl3RQ%3D%3D&position=12&pageNum=3&trk=public_jobs_jserp-result_search-card',\n",
       " 'https://www.linkedin.com/jobs/view/data-scientist-at-knitwell-group-3807305628?refId=PRh1GwTMkcVG1kf6Cb55cQ%3D%3D&trackingId=iVe%2FsK7sDh3c8tOlKUAG7A%3D%3D&position=13&pageNum=3&trk=public_jobs_jserp-result_search-card',\n",
       " 'https://www.linkedin.com/jobs/view/data-science-intern-at-medidata-solutions-3809930186?refId=PRh1GwTMkcVG1kf6Cb55cQ%3D%3D&trackingId=2kBy%2FXzOqO%2B25pdb1z%2FSyA%3D%3D&position=14&pageNum=3&trk=public_jobs_jserp-result_search-card',\n",
       " 'https://www.linkedin.com/jobs/view/analyst-data-analytics-at-vevo-3802071238?refId=PRh1GwTMkcVG1kf6Cb55cQ%3D%3D&trackingId=go9DGTBboUrG5wZq1uIxpQ%3D%3D&position=15&pageNum=3&trk=public_jobs_jserp-result_search-card',\n",
       " 'https://www.linkedin.com/jobs/view/data-scientist-engineer-at-team-remotely-inc-3817709473?refId=PRh1GwTMkcVG1kf6Cb55cQ%3D%3D&trackingId=cw1otoKm7yWufi7AQIRnAA%3D%3D&position=16&pageNum=3&trk=public_jobs_jserp-result_search-card',\n",
       " 'https://www.linkedin.com/jobs/view/data-scientist-modelling-at-apexon-3816732512?refId=PRh1GwTMkcVG1kf6Cb55cQ%3D%3D&trackingId=2vB6eIMQ0LG%2BeKuwtNpvLA%3D%3D&position=17&pageNum=3&trk=public_jobs_jserp-result_search-card',\n",
       " 'https://www.linkedin.com/jobs/view/data-scientist-at-sustainment-3805649988?refId=PRh1GwTMkcVG1kf6Cb55cQ%3D%3D&trackingId=n1q6VuXsp87N5HPPLXMr%2Fg%3D%3D&position=18&pageNum=3&trk=public_jobs_jserp-result_search-card',\n",
       " 'https://www.linkedin.com/jobs/view/data-scientist-at-pyramid-consulting-inc-3818012210?refId=PRh1GwTMkcVG1kf6Cb55cQ%3D%3D&trackingId=AmM4U1bQT5NivQ2RFdUyqg%3D%3D&position=19&pageNum=3&trk=public_jobs_jserp-result_search-card',\n",
       " 'https://www.linkedin.com/jobs/view/ml-data-scientist-at-apexon-3803408502?refId=PRh1GwTMkcVG1kf6Cb55cQ%3D%3D&trackingId=TMopfRLrr3VcUpsyfjx47Q%3D%3D&position=20&pageNum=3&trk=public_jobs_jserp-result_search-card',\n",
       " 'https://www.linkedin.com/jobs/view/data-scientist-at-forbes-technical-consulting-3813680907?refId=PRh1GwTMkcVG1kf6Cb55cQ%3D%3D&trackingId=btOx8f8TgnKBNnPETuls7A%3D%3D&position=21&pageNum=3&trk=public_jobs_jserp-result_search-card',\n",
       " 'https://www.linkedin.com/jobs/view/machine-learning-engineer-intern-at-cadent-3798213092?refId=PRh1GwTMkcVG1kf6Cb55cQ%3D%3D&trackingId=bNJ39J0bgdfaWQFybwKpZQ%3D%3D&position=22&pageNum=3&trk=public_jobs_jserp-result_search-card',\n",
       " 'https://www.linkedin.com/jobs/view/data-scientist-i-at-murphy-usa-3813657160?refId=PRh1GwTMkcVG1kf6Cb55cQ%3D%3D&trackingId=36ih4HozlenmPUmj8%2By%2F%2Fw%3D%3D&position=23&pageNum=3&trk=public_jobs_jserp-result_search-card',\n",
       " 'https://www.linkedin.com/jobs/view/jr-data-analyst-at-kolter-solutions-3802093307?refId=PRh1GwTMkcVG1kf6Cb55cQ%3D%3D&trackingId=TK%2FWeyMrn%2FXwui27FhNkYA%3D%3D&position=24&pageNum=3&trk=public_jobs_jserp-result_search-card',\n",
       " 'https://www.linkedin.com/jobs/view/data-scientist-at-corner-alliance-3803399519?refId=PRh1GwTMkcVG1kf6Cb55cQ%3D%3D&trackingId=IDwnKsbhFA1CwnUJQzz1Ww%3D%3D&position=25&pageNum=3&trk=public_jobs_jserp-result_search-card',\n",
       " 'https://www.linkedin.com/jobs/view/data-scientist-at-atlas-3798679391?refId=WZ02pfiV0rrAEaw19mP%2FSA%3D%3D&trackingId=7XqcbGOBqAxnR7ZgUha1nA%3D%3D&position=1&pageNum=4&trk=public_jobs_jserp-result_search-card',\n",
       " 'https://www.linkedin.com/jobs/view/junior-analytics-business-intelligence-analyst-at-medpace-3804606828?refId=WZ02pfiV0rrAEaw19mP%2FSA%3D%3D&trackingId=bEsCMxeqTa1VZs%2FCEOJlfw%3D%3D&position=2&pageNum=4&trk=public_jobs_jserp-result_search-card',\n",
       " 'https://www.linkedin.com/jobs/view/data-scientist-at-hobbs-madison-inc-3807758490?refId=WZ02pfiV0rrAEaw19mP%2FSA%3D%3D&trackingId=tvA1UiJ7COQ6qNWKXj5uGw%3D%3D&position=3&pageNum=4&trk=public_jobs_jserp-result_search-card',\n",
       " 'https://www.linkedin.com/jobs/view/data-scientist-at-sosi-3813638763?refId=WZ02pfiV0rrAEaw19mP%2FSA%3D%3D&trackingId=87G0Nwg6JPzBtuudcjXqBg%3D%3D&position=4&pageNum=4&trk=public_jobs_jserp-result_search-card',\n",
       " 'https://www.linkedin.com/jobs/view/data-analyst-intern-entry-level-at-cgi-3807053267?refId=WZ02pfiV0rrAEaw19mP%2FSA%3D%3D&trackingId=3ZFBekQhDwaX2aRoFbAYMQ%3D%3D&position=5&pageNum=4&trk=public_jobs_jserp-result_search-card',\n",
       " 'https://www.linkedin.com/jobs/view/data-analyst-at-hackajob-3818047731?refId=WZ02pfiV0rrAEaw19mP%2FSA%3D%3D&trackingId=dZiAiLHxW9RcmzBuXxPtGQ%3D%3D&position=6&pageNum=4&trk=public_jobs_jserp-result_search-card',\n",
       " 'https://www.linkedin.com/jobs/view/data-scientist-at-brady-corporation-3799960696?refId=WZ02pfiV0rrAEaw19mP%2FSA%3D%3D&trackingId=b%2BjcK68tzf%2BQpo%2FXLpwLqA%3D%3D&position=7&pageNum=4&trk=public_jobs_jserp-result_search-card',\n",
       " 'https://www.linkedin.com/jobs/view/data-scientist-at-cigniti-technologies-3805521638?refId=WZ02pfiV0rrAEaw19mP%2FSA%3D%3D&trackingId=AQ0B%2FYceylqUFNB6oM5RGQ%3D%3D&position=8&pageNum=4&trk=public_jobs_jserp-result_search-card',\n",
       " 'https://www.linkedin.com/jobs/view/data-scientist-hybrid-at-enova-international-3799457828?refId=WZ02pfiV0rrAEaw19mP%2FSA%3D%3D&trackingId=%2FeJXcO85KartyJ%2Ffi6PyTQ%3D%3D&position=9&pageNum=4&trk=public_jobs_jserp-result_search-card',\n",
       " 'https://www.linkedin.com/jobs/view/data-analyst-scientist-at-storm3-3803065030?refId=WZ02pfiV0rrAEaw19mP%2FSA%3D%3D&trackingId=pWl4MH6nBtdIEVqxz1nbIw%3D%3D&position=10&pageNum=4&trk=public_jobs_jserp-result_search-card',\n",
       " 'https://www.linkedin.com/jobs/view/data-analyst-at-sps-health-3801123099?refId=WZ02pfiV0rrAEaw19mP%2FSA%3D%3D&trackingId=ZP%2FERh8rCkhOCVkGNuM%2B3w%3D%3D&position=11&pageNum=4&trk=public_jobs_jserp-result_search-card',\n",
       " 'https://www.linkedin.com/jobs/view/data-scientist-at-spatial-genomics-inc-3800497661?refId=WZ02pfiV0rrAEaw19mP%2FSA%3D%3D&trackingId=m5DMdq483vvYzmkhBBGJSQ%3D%3D&position=12&pageNum=4&trk=public_jobs_jserp-result_search-card',\n",
       " 'https://www.linkedin.com/jobs/view/data-scientist-at-insightin-health-3806272008?refId=WZ02pfiV0rrAEaw19mP%2FSA%3D%3D&trackingId=03tBOgukWTCoBd0Nwg52tg%3D%3D&position=13&pageNum=4&trk=public_jobs_jserp-result_search-card',\n",
       " 'https://www.linkedin.com/jobs/view/data-scientist-at-mcconnell-jones-3803091358?refId=WZ02pfiV0rrAEaw19mP%2FSA%3D%3D&trackingId=hipVzfX%2BungEWRVboGkuow%3D%3D&position=14&pageNum=4&trk=public_jobs_jserp-result_search-card',\n",
       " 'https://www.linkedin.com/jobs/view/data-analyst-at-perella-weinberg-3798661579?refId=WZ02pfiV0rrAEaw19mP%2FSA%3D%3D&trackingId=ZgbQ1O7oIvYbnpZTlnNOPg%3D%3D&position=15&pageNum=4&trk=public_jobs_jserp-result_search-card',\n",
       " 'https://www.linkedin.com/jobs/view/data-analyst-at-crew-3799489865?refId=WZ02pfiV0rrAEaw19mP%2FSA%3D%3D&trackingId=npZLTmloVVXiKnuSO9DGbA%3D%3D&position=16&pageNum=4&trk=public_jobs_jserp-result_search-card',\n",
       " 'https://www.linkedin.com/jobs/view/data-scientist-at-resonate-3804645286?refId=WZ02pfiV0rrAEaw19mP%2FSA%3D%3D&trackingId=gb9AwKy8Ge4Fao90Pn%2FOUg%3D%3D&position=17&pageNum=4&trk=public_jobs_jserp-result_search-card',\n",
       " 'https://www.linkedin.com/jobs/view/excel-data-analyst-at-talent-groups-3803247739?refId=WZ02pfiV0rrAEaw19mP%2FSA%3D%3D&trackingId=2N1WNW2vQpdAmWNwaBLMdQ%3D%3D&position=18&pageNum=4&trk=public_jobs_jserp-result_search-card',\n",
       " 'https://www.linkedin.com/jobs/view/data-analyst-at-crew-3799490724?refId=WZ02pfiV0rrAEaw19mP%2FSA%3D%3D&trackingId=dtKZqhvjmarAmZq2RrieTA%3D%3D&position=19&pageNum=4&trk=public_jobs_jserp-result_search-card',\n",
       " 'https://www.linkedin.com/jobs/view/excel-data-analyst-remote-at-conexess-group-3803693741?refId=WZ02pfiV0rrAEaw19mP%2FSA%3D%3D&trackingId=XMftPh9vNzYFKLYlKS8wDA%3D%3D&position=20&pageNum=4&trk=public_jobs_jserp-result_search-card',\n",
       " 'https://www.linkedin.com/jobs/view/data-scientist-at-octapharma-plasma-inc-3808662139?refId=WZ02pfiV0rrAEaw19mP%2FSA%3D%3D&trackingId=nflN9tClKBeFrzhWwLQsZA%3D%3D&position=21&pageNum=4&trk=public_jobs_jserp-result_search-card',\n",
       " 'https://www.linkedin.com/jobs/view/data-scientist-at-tmb-trusted-media-brands-3810599938?refId=WZ02pfiV0rrAEaw19mP%2FSA%3D%3D&trackingId=CzrX3fLr9iLEOJqUi8J84A%3D%3D&position=22&pageNum=4&trk=public_jobs_jserp-result_search-card',\n",
       " 'https://www.linkedin.com/jobs/view/data-scientist-gtm-at-openai-3816718971?refId=WZ02pfiV0rrAEaw19mP%2FSA%3D%3D&trackingId=ZKGsnJl8EuYdhGCPXjxBOg%3D%3D&position=23&pageNum=4&trk=public_jobs_jserp-result_search-card',\n",
       " 'https://www.linkedin.com/jobs/view/data-analytics-intern-at-smith-associates-3813672723?refId=WZ02pfiV0rrAEaw19mP%2FSA%3D%3D&trackingId=Zx%2FoFgLpqtdUl%2BBhhN6t%2Fw%3D%3D&position=24&pageNum=4&trk=public_jobs_jserp-result_search-card',\n",
       " 'https://www.linkedin.com/jobs/view/junior-data-analyst-at-red-gate-3802672430?refId=WZ02pfiV0rrAEaw19mP%2FSA%3D%3D&trackingId=C7C4eGa2hywYQ3LlKnrLFQ%3D%3D&position=25&pageNum=4&trk=public_jobs_jserp-result_search-card',\n",
       " 'https://www.linkedin.com/jobs/view/machine-learning-engineer-at-zest-ai-3796334173?refId=sv6oMmu6iE75R%2Fh2fE4h6Q%3D%3D&trackingId=845HyUBRLWuXWOvfoljuEA%3D%3D&position=1&pageNum=5&trk=public_jobs_jserp-result_search-card',\n",
       " 'https://www.linkedin.com/jobs/view/machine-learning-engineer-intern-at-cadent-3807739195?refId=sv6oMmu6iE75R%2Fh2fE4h6Q%3D%3D&trackingId=OUh0MHQtAWqmHRHJ6%2F8acQ%3D%3D&position=2&pageNum=5&trk=public_jobs_jserp-result_search-card',\n",
       " 'https://www.linkedin.com/jobs/view/data-analyst-at-arcadis-3818206776?refId=sv6oMmu6iE75R%2Fh2fE4h6Q%3D%3D&trackingId=sdgtLiS8Wq71EgbX1gOqRA%3D%3D&position=3&pageNum=5&trk=public_jobs_jserp-result_search-card',\n",
       " 'https://www.linkedin.com/jobs/view/data-analyst-at-northbound-executive-search-3808588923?refId=sv6oMmu6iE75R%2Fh2fE4h6Q%3D%3D&trackingId=L6a%2FySMVvg0ACRPfB78Y0Q%3D%3D&position=4&pageNum=5&trk=public_jobs_jserp-result_search-card',\n",
       " 'https://www.linkedin.com/jobs/view/data-scientist-at-first-soft-solutions-llc-3798367775?refId=sv6oMmu6iE75R%2Fh2fE4h6Q%3D%3D&trackingId=pdxKKhZPlr83I2JFUmYTFQ%3D%3D&position=5&pageNum=5&trk=public_jobs_jserp-result_search-card',\n",
       " 'https://www.linkedin.com/jobs/view/data-analyst-at-russell-tobin-3807707163?refId=sv6oMmu6iE75R%2Fh2fE4h6Q%3D%3D&trackingId=P%2BsAsoee1cidPiIEyEMf8A%3D%3D&position=6&pageNum=5&trk=public_jobs_jserp-result_search-card',\n",
       " 'https://www.linkedin.com/jobs/view/data-scientist-clinical-analytics-remote-at-the-cigna-group-3813634404?refId=sv6oMmu6iE75R%2Fh2fE4h6Q%3D%3D&trackingId=QWhSYZGZ2V9qx6DuLfR91g%3D%3D&position=7&pageNum=5&trk=public_jobs_jserp-result_search-card',\n",
       " 'https://www.linkedin.com/jobs/view/data-scientist-clearance-required-hybrid-telework-at-lockheed-martin-3817458430?refId=sv6oMmu6iE75R%2Fh2fE4h6Q%3D%3D&trackingId=pQOnDzpgsx4gbO4rfGKYAw%3D%3D&position=8&pageNum=5&trk=public_jobs_jserp-result_search-card',\n",
       " 'https://www.linkedin.com/jobs/view/data-scientist-at-fanduel-3797050679?refId=sv6oMmu6iE75R%2Fh2fE4h6Q%3D%3D&trackingId=ocKn%2Fib6qst9TY%2B9IVto1A%3D%3D&position=9&pageNum=5&trk=public_jobs_jserp-result_search-card',\n",
       " 'https://www.linkedin.com/jobs/view/data-scientist-at-sartre-group-3801280121?refId=sv6oMmu6iE75R%2Fh2fE4h6Q%3D%3D&trackingId=t3lRkqTzbHDmjQPn2glPzA%3D%3D&position=10&pageNum=5&trk=public_jobs_jserp-result_search-card',\n",
       " 'https://www.linkedin.com/jobs/view/data-scientist-at-d-c-united-3807778904?refId=sv6oMmu6iE75R%2Fh2fE4h6Q%3D%3D&trackingId=bgo2XWj%2FUQNstK2aVpN1Uw%3D%3D&position=11&pageNum=5&trk=public_jobs_jserp-result_search-card',\n",
       " 'https://www.linkedin.com/jobs/view/intern-epidemiology-at-biogen-3804461093?refId=sv6oMmu6iE75R%2Fh2fE4h6Q%3D%3D&trackingId=%2Bqj9EUGExOcHQiAdrW8bGg%3D%3D&position=12&pageNum=5&trk=public_jobs_jserp-result_search-card',\n",
       " 'https://www.linkedin.com/jobs/view/data-science-phoenix-az-at-conch-technologies-inc-3808506869?refId=sv6oMmu6iE75R%2Fh2fE4h6Q%3D%3D&trackingId=dEYSqRc5mul%2FLUFgvX2lNg%3D%3D&position=13&pageNum=5&trk=public_jobs_jserp-result_search-card',\n",
       " 'https://www.linkedin.com/jobs/view/data-scientist-at-nexoglobal-inc-3798372262?refId=sv6oMmu6iE75R%2Fh2fE4h6Q%3D%3D&trackingId=klXSZ0ttTVZYW9Ws5rWO7g%3D%3D&position=14&pageNum=5&trk=public_jobs_jserp-result_search-card',\n",
       " 'https://www.linkedin.com/jobs/view/data-scientist-central-market-management-at-lyft-3805609823?refId=sv6oMmu6iE75R%2Fh2fE4h6Q%3D%3D&trackingId=ElKnuAk36tgtCX4uNtr3qQ%3D%3D&position=15&pageNum=5&trk=public_jobs_jserp-result_search-card',\n",
       " 'https://www.linkedin.com/jobs/view/analytics-engineer-at-zynex-medical-3803508675?refId=sv6oMmu6iE75R%2Fh2fE4h6Q%3D%3D&trackingId=35u02PrYf%2BnBtaW8fcqWVw%3D%3D&position=16&pageNum=5&trk=public_jobs_jserp-result_search-card',\n",
       " 'https://www.linkedin.com/jobs/view/data-scientist-at-eimagine-3798219761?refId=sv6oMmu6iE75R%2Fh2fE4h6Q%3D%3D&trackingId=XHzkI%2FfuQxeneYPohXbjsw%3D%3D&position=17&pageNum=5&trk=public_jobs_jserp-result_search-card',\n",
       " 'https://www.linkedin.com/jobs/view/staff-marketing-data-scientist-at-sofi-3810587516?refId=sv6oMmu6iE75R%2Fh2fE4h6Q%3D%3D&trackingId=L%2FjxZreanQr2%2BZe6rNsmyw%3D%3D&position=18&pageNum=5&trk=public_jobs_jserp-result_search-card',\n",
       " 'https://www.linkedin.com/jobs/view/data-scientist-data-analytics-at-dexian-3813677964?refId=sv6oMmu6iE75R%2Fh2fE4h6Q%3D%3D&trackingId=IuwXc9uu15yn6EP8%2BDDqLw%3D%3D&position=19&pageNum=5&trk=public_jobs_jserp-result_search-card',\n",
       " 'https://www.linkedin.com/jobs/view/junior-machine-learning-engineer-us-only-at-vpnforandroid-3817710346?refId=sv6oMmu6iE75R%2Fh2fE4h6Q%3D%3D&trackingId=Ee3Qg2SlAagYsaOQ%2BJHUtw%3D%3D&position=20&pageNum=5&trk=public_jobs_jserp-result_search-card',\n",
       " 'https://www.linkedin.com/jobs/view/data-scientist-at-x4-technology-3804608569?refId=sv6oMmu6iE75R%2Fh2fE4h6Q%3D%3D&trackingId=GedxVI6p95GoW%2F72OKsy1g%3D%3D&position=21&pageNum=5&trk=public_jobs_jserp-result_search-card',\n",
       " 'https://www.linkedin.com/jobs/view/data-scientist-with-gen-ai-at-new-york-technology-partners-3804552373?refId=sv6oMmu6iE75R%2Fh2fE4h6Q%3D%3D&trackingId=FYjTgDzuSfRjriFlXqvKnA%3D%3D&position=22&pageNum=5&trk=public_jobs_jserp-result_search-card',\n",
       " 'https://www.linkedin.com/jobs/view/junior-data-analyst-at-team-remotely-inc-3817710336?refId=sv6oMmu6iE75R%2Fh2fE4h6Q%3D%3D&trackingId=myJTcjZ7qPX8rKkNRCvciQ%3D%3D&position=23&pageNum=5&trk=public_jobs_jserp-result_search-card',\n",
       " 'https://www.linkedin.com/jobs/view/data-scientist-at-rapid-strategy-3816098994?refId=sv6oMmu6iE75R%2Fh2fE4h6Q%3D%3D&trackingId=OfSCyOjJtJFY7SCFDIF1Tw%3D%3D&position=24&pageNum=5&trk=public_jobs_jserp-result_search-card',\n",
       " 'https://www.linkedin.com/jobs/view/data-analysis-internship-at-myshell-ai-3817477155?refId=sv6oMmu6iE75R%2Fh2fE4h6Q%3D%3D&trackingId=4wxlPoRimh3PKA2ZPRZMqw%3D%3D&position=25&pageNum=5&trk=public_jobs_jserp-result_search-card',\n",
       " 'https://www.linkedin.com/jobs/view/data-scientist-small-business-group-at-meta-3816287761?refId=dUCpBILZIlCgy%2BAW4GhPnQ%3D%3D&trackingId=ndgcOi6oXNYUFzOu0Jz59Q%3D%3D&position=1&pageNum=6&trk=public_jobs_jserp-result_search-card',\n",
       " 'https://www.linkedin.com/jobs/view/data-science-intern-ads-at-reddit-inc-3812822390?refId=dUCpBILZIlCgy%2BAW4GhPnQ%3D%3D&trackingId=jel%2BM5ZBaMOxiJxOUtykUA%3D%3D&position=2&pageNum=6&trk=public_jobs_jserp-result_search-card',\n",
       " 'https://www.linkedin.com/jobs/view/junior-machine-learning-engineer-us-only-at-vpnforandroid-3817710346?refId=dUCpBILZIlCgy%2BAW4GhPnQ%3D%3D&trackingId=zrYdMLsQBPTLStSLi259%2Fg%3D%3D&position=3&pageNum=6&trk=public_jobs_jserp-result_search-card',\n",
       " 'https://www.linkedin.com/jobs/view/staff-marketing-data-scientist-at-sofi-3810587516?refId=dUCpBILZIlCgy%2BAW4GhPnQ%3D%3D&trackingId=SkEBubodxsBos26q6sebOQ%3D%3D&position=4&pageNum=6&trk=public_jobs_jserp-result_search-card',\n",
       " 'https://www.linkedin.com/jobs/view/data-scientist-data-analytics-at-dexian-3813677964?refId=dUCpBILZIlCgy%2BAW4GhPnQ%3D%3D&trackingId=L7zwziPx6jfcq1c8TTmAoQ%3D%3D&position=5&pageNum=6&trk=public_jobs_jserp-result_search-card',\n",
       " 'https://www.linkedin.com/jobs/view/data-scientist-at-leidos-3818074267?refId=dUCpBILZIlCgy%2BAW4GhPnQ%3D%3D&trackingId=7%2BiZPs%2BvVRI8z159%2BAdH3A%3D%3D&position=6&pageNum=6&trk=public_jobs_jserp-result_search-card',\n",
       " 'https://www.linkedin.com/jobs/view/junior-data-analyst-at-team-remotely-inc-3817710336?refId=dUCpBILZIlCgy%2BAW4GhPnQ%3D%3D&trackingId=5Rml%2BADqeBy3hM8JmWNuMA%3D%3D&position=7&pageNum=6&trk=public_jobs_jserp-result_search-card',\n",
       " 'https://www.linkedin.com/jobs/view/data-scientist-at-akkodis-3816763850?refId=dUCpBILZIlCgy%2BAW4GhPnQ%3D%3D&trackingId=WZE6ZvWt7Gu%2FL3Wjoga52A%3D%3D&position=8&pageNum=6&trk=public_jobs_jserp-result_search-card',\n",
       " 'https://www.linkedin.com/jobs/view/staff-marketing-data-scientist-at-sofi-3810589483?refId=dUCpBILZIlCgy%2BAW4GhPnQ%3D%3D&trackingId=bBwhb8HJhoadbmXxQcvsxw%3D%3D&position=9&pageNum=6&trk=public_jobs_jserp-result_search-card',\n",
       " 'https://www.linkedin.com/jobs/view/data-scientist-%E2%80%93-end-to-end-data-science-problems-at-saragossa-3814160683?refId=dUCpBILZIlCgy%2BAW4GhPnQ%3D%3D&trackingId=syfE75EjM79ah8xSl7WWPQ%3D%3D&position=10&pageNum=6&trk=public_jobs_jserp-result_search-card',\n",
       " 'https://www.linkedin.com/jobs/view/business-intelligence-analyst-at-doordash-3805567146?refId=dUCpBILZIlCgy%2BAW4GhPnQ%3D%3D&trackingId=t%2Bb11JruHMtf4pwOyS%2BodQ%3D%3D&position=11&pageNum=6&trk=public_jobs_jserp-result_search-card',\n",
       " 'https://www.linkedin.com/jobs/view/data-analyst-at-northpoint-recovery-3807332867?refId=dUCpBILZIlCgy%2BAW4GhPnQ%3D%3D&trackingId=BO%2B0hohjsaTr42pU%2F0x%2F6g%3D%3D&position=12&pageNum=6&trk=public_jobs_jserp-result_search-card',\n",
       " 'https://www.linkedin.com/jobs/view/business-data-analyst-at-prosearch-3807729790?refId=dUCpBILZIlCgy%2BAW4GhPnQ%3D%3D&trackingId=Yd8d5qin4f24svQ1DP7Z%2FA%3D%3D&position=13&pageNum=6&trk=public_jobs_jserp-result_search-card',\n",
       " 'https://www.linkedin.com/jobs/view/analytics-data-science-intern-at-blue-cross-blue-shield-of-massachusetts-3812548398?refId=dUCpBILZIlCgy%2BAW4GhPnQ%3D%3D&trackingId=E0acSeDiKPjYI3WAV05Qqg%3D%3D&position=14&pageNum=6&trk=public_jobs_jserp-result_search-card',\n",
       " 'https://www.linkedin.com/jobs/view/data-analytics-at-ventois-inc-3818024937?refId=dUCpBILZIlCgy%2BAW4GhPnQ%3D%3D&trackingId=AXJ78Dr8Gy5%2Bf4DLl4Qsag%3D%3D&position=15&pageNum=6&trk=public_jobs_jserp-result_search-card',\n",
       " 'https://www.linkedin.com/jobs/view/data-engineer-data-scientist-at-minio-3808134819?refId=dUCpBILZIlCgy%2BAW4GhPnQ%3D%3D&trackingId=mMbgNd2znvHpbhBrmRFVrg%3D%3D&position=16&pageNum=6&trk=public_jobs_jserp-result_search-card',\n",
       " 'https://www.linkedin.com/jobs/view/lead-data-scientist-at-glo-3809280591?refId=dUCpBILZIlCgy%2BAW4GhPnQ%3D%3D&trackingId=tI2U8EiKoZpL3J8yVcA0yA%3D%3D&position=17&pageNum=6&trk=public_jobs_jserp-result_search-card',\n",
       " 'https://www.linkedin.com/jobs/view/data-scientist-at-usajobs-3815483552?refId=dUCpBILZIlCgy%2BAW4GhPnQ%3D%3D&trackingId=ez2tZ5jlxo%2BmLOd0B2nnGQ%3D%3D&position=18&pageNum=6&trk=public_jobs_jserp-result_search-card',\n",
       " 'https://www.linkedin.com/jobs/view/assistant-scientist-at-hays-3811925472?refId=dUCpBILZIlCgy%2BAW4GhPnQ%3D%3D&trackingId=secz7dFoTVtwHz0S0b2Cpg%3D%3D&position=19&pageNum=6&trk=public_jobs_jserp-result_search-card',\n",
       " 'https://www.linkedin.com/jobs/view/staff-marketing-data-scientist-at-sofi-3810590376?refId=dUCpBILZIlCgy%2BAW4GhPnQ%3D%3D&trackingId=QorIXEDIoaAQm9VYnEMZNw%3D%3D&position=20&pageNum=6&trk=public_jobs_jserp-result_search-card',\n",
       " 'https://www.linkedin.com/jobs/view/data-scientist-clinical-analytics-remote-at-the-cigna-group-3816779556?refId=dUCpBILZIlCgy%2BAW4GhPnQ%3D%3D&trackingId=iuCY1v97QWQy%2BKnQrz76Gw%3D%3D&position=21&pageNum=6&trk=public_jobs_jserp-result_search-card',\n",
       " 'https://www.linkedin.com/jobs/view/data-scientist-clinical-analytics-remote-at-the-cigna-group-3816778754?refId=dUCpBILZIlCgy%2BAW4GhPnQ%3D%3D&trackingId=%2FYQeFYS3jx5rwoT0QTp17A%3D%3D&position=22&pageNum=6&trk=public_jobs_jserp-result_search-card',\n",
       " 'https://www.linkedin.com/jobs/view/data-analyst-at-the-fresh-market-3816262229?refId=dUCpBILZIlCgy%2BAW4GhPnQ%3D%3D&trackingId=Wf4YrZ6myhrWDtUBjPyKqg%3D%3D&position=23&pageNum=6&trk=public_jobs_jserp-result_search-card',\n",
       " 'https://www.linkedin.com/jobs/view/data-analyst-at-rvo-health-3808962168?refId=dUCpBILZIlCgy%2BAW4GhPnQ%3D%3D&trackingId=SBloFLJm%2BSTYJyfJ%2FDrytA%3D%3D&position=24&pageNum=6&trk=public_jobs_jserp-result_search-card',\n",
       " 'https://www.linkedin.com/jobs/view/machine-learning-engineer-intern-at-ge-healthcare-3813590255?refId=dUCpBILZIlCgy%2BAW4GhPnQ%3D%3D&trackingId=rh%2Ff4FPYG6mfkSGM186XaA%3D%3D&position=25&pageNum=6&trk=public_jobs_jserp-result_search-card']"
      ]
     },
     "execution_count": 4,
     "metadata": {},
     "output_type": "execute_result"
    }
   ],
   "source": [
    "urls"
   ]
  },
  {
   "cell_type": "code",
   "execution_count": 5,
   "id": "db03a7c0",
   "metadata": {},
   "outputs": [
    {
     "data": {
      "text/plain": [
       "False"
      ]
     },
     "execution_count": 5,
     "metadata": {},
     "output_type": "execute_result"
    }
   ],
   "source": [
    "# checking if there are any duplicates\n",
    "len(urls) != len(set(urls))"
   ]
  },
  {
   "cell_type": "code",
   "execution_count": 6,
   "id": "060bdf03",
   "metadata": {},
   "outputs": [
    {
     "name": "stdout",
     "output_type": "stream",
     "text": [
      "https://www.linkedin.com/jobs/view/data-scientist-small-business-group-at-meta-3816287761?refId=dUCpBILZIlCgy%2BAW4GhPnQ%3D%3D&trackingId=ndgcOi6oXNYUFzOu0Jz59Q%3D%3D&position=1&pageNum=6&trk=public_jobs_jserp-result_search-card\n"
     ]
    }
   ],
   "source": [
    "for i in urls:\n",
    "    if (i.__contains__(\"meta\")):\n",
    "        print(i)"
   ]
  },
  {
   "cell_type": "markdown",
   "id": "a05c795b",
   "metadata": {},
   "source": [
    "## Directly change ```my_directory``` variable or create a config.py file to import ```my_directory```"
   ]
  },
  {
   "cell_type": "code",
   "execution_count": 7,
   "id": "bfe542a8",
   "metadata": {},
   "outputs": [],
   "source": [
    "# my_directory = \"C:/<example_Desktop>/<example_directory>\"\n",
    "\n",
    "os.chdir(my_directory)\n",
    "\n",
    "SCRAPED_JOBS_PATH = my_directory + \"/jobs\"\n",
    "\n",
    "SCRAPED_JOBS_PATH_EXIST = os.path.exists(SCRAPED_JOBS_PATH)\n",
    "\n",
    "if SCRAPED_JOBS_PATH_EXIST == True:\n",
    "    pass\n",
    "else:\n",
    "    os.mkdir(SCRAPED_JOBS_PATH)"
   ]
  },
  {
   "cell_type": "markdown",
   "id": "d6ec5855",
   "metadata": {},
   "source": [
    "## Loop through ```urls``` list to create a job description file for each job"
   ]
  },
  {
   "cell_type": "code",
   "execution_count": 8,
   "id": "2cc8d915",
   "metadata": {},
   "outputs": [],
   "source": [
    "for url in urls:\n",
    "    page = requests.get(url)\n",
    "    time.sleep(2)\n",
    "    soup = BeautifulSoup(page.text, 'lxml')\n",
    "    os.chdir(SCRAPED_JOBS_PATH)\n",
    "    \n",
    "    for div in soup.find_all('div', class_='top-card-layout__entity-info'):\n",
    "        \n",
    "        position_title = div.h1.text\n",
    "        company = (div.h4.div.span.a.text).lstrip().rstrip()\n",
    "        \n",
    "        file_name = f\"{position_title.replace(' ', '')}-{company.replace(' ', '')}.txt\"\n",
    "        file_name_exists = os.path.exists(SCRAPED_JOBS_PATH + \"/\" + file_name)\n",
    "        \n",
    "        if file_name_exists:\n",
    "            pass\n",
    "        else:\n",
    "            try:\n",
    "                with open(file_name, \"w\", encoding=\"utf-8\") as my_file:\n",
    "\n",
    "                    my_file.write(\"Position title: \" + position_title)\n",
    "                    my_file.write(\"\\n\")\n",
    "                    my_file.write(\"\\n\")\n",
    "\n",
    "                    my_file.write(\"Company: \" + company)\n",
    "                    my_file.write(\"\\n\")\n",
    "                    my_file.write(\"\\n\")\n",
    "\n",
    "                    section = soup.find_all('section', class_='show-more-less-html')\n",
    "\n",
    "                    for i in section:\n",
    "                        div = soup.find('div', class_='show-more-less-html__markup')\n",
    "\n",
    "                        try:\n",
    "                            my_file.write(div.text)\n",
    "                            my_file.write(\"\\n\")\n",
    "\n",
    "                        except FileNotFoundError:\n",
    "                            pass\n",
    "                        \n",
    "                    my_file.write(\"Job URL: \" + url)\n",
    "                    \n",
    "            except (FileNotFoundError, OSError) as e:\n",
    "                pass"
   ]
  },
  {
   "cell_type": "code",
   "execution_count": 9,
   "id": "9929791d",
   "metadata": {},
   "outputs": [],
   "source": [
    "driver.close()"
   ]
  },
  {
   "cell_type": "code",
   "execution_count": null,
   "id": "00326678",
   "metadata": {},
   "outputs": [],
   "source": []
  }
 ],
 "metadata": {
  "kernelspec": {
   "display_name": "Python [conda env:root] *",
   "language": "python",
   "name": "conda-root-py"
  },
  "language_info": {
   "codemirror_mode": {
    "name": "ipython",
    "version": 3
   },
   "file_extension": ".py",
   "mimetype": "text/x-python",
   "name": "python",
   "nbconvert_exporter": "python",
   "pygments_lexer": "ipython3",
   "version": "3.9.16"
  }
 },
 "nbformat": 4,
 "nbformat_minor": 5
}
